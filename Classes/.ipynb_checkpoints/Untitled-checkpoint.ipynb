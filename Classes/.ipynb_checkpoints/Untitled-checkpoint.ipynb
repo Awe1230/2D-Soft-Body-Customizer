{
 "cells": [
  {
   "cell_type": "markdown",
   "id": "7612349d",
   "metadata": {},
   "source": [
    "## Bouncing Ball Jupyter Notebook\n",
    "In this notebook, we are going to explore some of the things we can do with a Jupyter Notebook."
   ]
  },
  {
   "cell_type": "code",
   "execution_count": 1,
   "id": "78767688",
   "metadata": {},
   "outputs": [
    {
     "name": "stdout",
     "output_type": "stream",
     "text": [
      "x\n"
     ]
    }
   ],
   "source": [
    "print(\"x\")"
   ]
  },
  {
   "cell_type": "code",
   "execution_count": 2,
   "id": "8bc7deeb",
   "metadata": {},
   "outputs": [
    {
     "data": {
      "text/html": [
       "<div id=\"glowscript\" class=\"glowscript\"></div>"
      ],
      "text/plain": [
       "<IPython.core.display.HTML object>"
      ]
     },
     "metadata": {},
     "output_type": "display_data"
    },
    {
     "data": {
      "application/javascript": [
       "if (typeof Jupyter !== \"undefined\") { window.__context = { glowscript_container: $(\"#glowscript\").removeAttr(\"id\")};}else{ element.textContent = ' ';}"
      ],
      "text/plain": [
       "<IPython.core.display.Javascript object>"
      ]
     },
     "metadata": {},
     "output_type": "display_data"
    }
   ],
   "source": [
    "from vpython import *\n",
    "from math import *"
   ]
  },
  {
   "cell_type": "code",
   "execution_count": null,
   "id": "ab933c47",
   "metadata": {},
   "outputs": [],
   "source": [
    "ball = sphere(pos = vector(0, 0, 0), radius = 0.5, color = color.cyan, make_trail = True)\n",
    "#\n",
    "ball.interval = 10\n",
    "ball.retain = 50\n",
    "ball.trail_color = color.magenta\n",
    "#\n",
    "WL = box(pos = vector(-10, 0, 0), size = vector(0.1, 10, 5), color = color.blue)\n",
    "WR = box(pos = vector(10, 0, 0), size = vector(0.1, 10, 5), color = color.blue)\n",
    "WT = box(pos = vector(0, 10, 0), size = vector(10, 0.1,  5), color = color.blue)\n",
    "WB = box(pos = vector(0, -10, 0), size = vector(10, 0.1, 5), color = color.blue)\n",
    "#\n",
    "ball.velocity  =  vector(1, 5, 0)\n",
    "print(type(ball.velocity))\n",
    "print(type(ball.pos))\n",
    "ball.bv = arrow(pos = ball.pos, axis = ball.velocity, color = ball.color, length = mag(ball.velocity))\n",
    "#\n",
    "t = 0\n",
    "dt = 0.1\n",
    "#\n",
    "while t < 1000:\n",
    "    rate(100)\n",
    "    ball.pos  =  ball.pos + ball.velocity*dt\n",
    "    t = t+dt\n",
    "    if ball.pos.x < WL.pos.x:\n",
    "        ball.velocity.x = -ball.velocity.x\n",
    "    if ball.pos.x > WR.pos.x:\n",
    "        ball.velocity.x = -ball.velocity.x\n",
    "    if ball.pos.y > WT.pos.y:\n",
    "        ball.velocity.y = -ball.velocity.y\n",
    "    if ball.pos.y < WB.pos.y:\n",
    "        ball.velocity.y = -ball.velocity.y\n",
    "    ball.bv.pos = ball.pos\n",
    "    ball.bv.axis = ball.velocity"
   ]
  },
  {
   "cell_type": "code",
   "execution_count": null,
   "id": "ad5775eb",
   "metadata": {},
   "outputs": [],
   "source": []
  },
  {
   "cell_type": "code",
   "execution_count": null,
   "id": "5b2502ad",
   "metadata": {},
   "outputs": [],
   "source": []
  },
  {
   "cell_type": "code",
   "execution_count": null,
   "id": "a4a8326d",
   "metadata": {},
   "outputs": [],
   "source": []
  }
 ],
 "metadata": {
  "kernelspec": {
   "display_name": "Python 3 (ipykernel)",
   "language": "python",
   "name": "python3"
  },
  "language_info": {
   "codemirror_mode": {
    "name": "ipython",
    "version": 3
   },
   "file_extension": ".py",
   "mimetype": "text/x-python",
   "name": "python",
   "nbconvert_exporter": "python",
   "pygments_lexer": "ipython3",
   "version": "3.9.13"
  }
 },
 "nbformat": 4,
 "nbformat_minor": 5
}
